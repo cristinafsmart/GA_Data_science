{
 "cells": [
  {
   "cell_type": "markdown",
   "metadata": {},
   "source": [
    "# This is a summary of a chapter from The Data Science Handbook"
   ]
  },
  {
   "cell_type": "markdown",
   "metadata": {},
   "source": [
    "*Firstly, this book wasn't what I was expecting as I was thinking it would be bland instructions etc. etc. Instead it's filled with great insight from the Data Scientists themselves*"
   ]
  },
  {
   "cell_type": "markdown",
   "metadata": {},
   "source": [
    "**Another key point is that I didn't realise that Data Science had its advent in the academic world - as actual scientists needed better ways to interrogate their datasets for their research projects**"
   ]
  },
  {
   "cell_type": "markdown",
   "metadata": {},
   "source": [
    "My favourite chapter is still the first one with DJ Patil, who I suppose is considered the _Grandaddy_ of Data Scientists! "
   ]
  },
  {
   "cell_type": "markdown",
   "metadata": {},
   "source": [
    "I am however going to summarise another chapter, the one from **Mike Dewar**. I had no idea the amount of big data analytics played in journalism. \n",
    "\n",
    "He summarises quite nicely how a passion for data can then turn into this lifelong journey of investigating many different facets - from the weather, to the Crisis Help Line, to Bitly and more. I have to admit, this is what has drawn me to where I am at today - being able to have so many avenues to accrue knowledge, find out how people tick and learn new insights everyday. \n",
    "\n",
    "I love the line he says:  _**Code in Public**_ . \n",
    "\n"
   ]
  },
  {
   "cell_type": "code",
   "execution_count": null,
   "metadata": {
    "collapsed": true
   },
   "outputs": [],
   "source": []
  }
 ],
 "metadata": {
  "kernelspec": {
   "display_name": "Python [conda root]",
   "language": "python",
   "name": "conda-root-py"
  },
  "language_info": {
   "codemirror_mode": {
    "name": "ipython",
    "version": 2
   },
   "file_extension": ".py",
   "mimetype": "text/x-python",
   "name": "python",
   "nbconvert_exporter": "python",
   "pygments_lexer": "ipython2",
   "version": "2.7.12"
  }
 },
 "nbformat": 4,
 "nbformat_minor": 1
}
