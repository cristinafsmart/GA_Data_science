{
 "cells": [
  {
   "cell_type": "markdown",
   "metadata": {},
   "source": [
    "# Five BIG Ideas for SYD_DAT_7 Project"
   ]
  },
  {
   "cell_type": "markdown",
   "metadata": {},
   "source": [
    "1. This is a job related project. I'd love to look at the possibility of getting real live public transport API data to examine how often they are late, on time or offline in any given time! the data for this would be from the NSW open data portal real time api. i'd probably only look at a couple of days to be able to get a sense of the 'universe' of bus transit - in fact, it would be great to compare a monday with a friday etc etc"
   ]
  },
  {
   "cell_type": "markdown",
   "metadata": {},
   "source": [
    "*i'd also love to play around with the million song project and see if i could 'write a hit song' using the most commonly used words* this data is freely available via the AWS public datasets "
   ]
  },
  {
   "cell_type": "markdown",
   "metadata": {},
   "source": [
    "This idea would be to use some social media backend data to investigate how to measure 'sentiment' by using beautiful soup to scrape from twitter etc, i could then try to see whether it is possible"
   ]
  },
  {
   "cell_type": "markdown",
   "metadata": {},
   "source": [
    "**another idea i thought of was to track the lineage of designer dog breeds - but i haven't found a dataset for this yet!'**"
   ]
  },
  {
   "cell_type": "markdown",
   "metadata": {},
   "source": [
    "Lastly i thought of perhaps looking at ATO data and some attitudinal data i already have to see if environmental attitudes change with socio economic factors - but that's only if I hit a wall with the others :)"
   ]
  },
  {
   "cell_type": "code",
   "execution_count": null,
   "metadata": {
    "collapsed": true
   },
   "outputs": [],
   "source": []
  }
 ],
 "metadata": {
  "kernelspec": {
   "display_name": "Python [conda root]",
   "language": "python",
   "name": "conda-root-py"
  },
  "language_info": {
   "codemirror_mode": {
    "name": "ipython",
    "version": 2
   },
   "file_extension": ".py",
   "mimetype": "text/x-python",
   "name": "python",
   "nbconvert_exporter": "python",
   "pygments_lexer": "ipython2",
   "version": "2.7.12"
  }
 },
 "nbformat": 4,
 "nbformat_minor": 1
}
